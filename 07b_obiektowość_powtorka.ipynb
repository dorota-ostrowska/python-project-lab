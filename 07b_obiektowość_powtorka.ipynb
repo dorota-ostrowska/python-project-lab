{
  "cells": [
    {
      "cell_type": "markdown",
      "metadata": {
        "id": "JJ752rXkeNbA"
      },
      "source": [
        "## Programowanie obiektowe w Pythonie\n",
        "\n",
        "**Klasa** to wzór/schemat/opis abstrakcyjny, na podstawie którego możemy tworzyć konkretne **obiekty**, czyli **instancje** naszej klasy.\n",
        "\n",
        "Obiekt klasa wdrożona w życie, której cechy (**pola**) i zachowania (**metody**) określa klasa.\n",
        "\n",
        "W momencie tworzenia obiektu **konstruktor** (specjalna metoda) przypisuje wartości przekazane jako atrybuty do pól klasy dla tworzonego obiektu."
      ]
    },
    {
      "cell_type": "markdown",
      "metadata": {
        "id": "CaRO1kGcePka"
      },
      "source": [
        "### Pole statyczne"
      ]
    },
    {
      "cell_type": "markdown",
      "metadata": {
        "id": "MCI_vuAi5moh"
      },
      "source": [
        "Pole statyczne nto pole tworzone w klasie poza konstruktorem i jest wspólne dla wszystkich obiektów klasy. "
      ]
    },
    {
      "cell_type": "code",
      "execution_count": null,
      "metadata": {
        "id": "8eQVHYSaIRzM"
      },
      "outputs": [],
      "source": [
        "class Licznik:\n",
        "    ile = 0                    # pole statyczne\n",
        "    def __init__(self):        # konstruktor\n",
        "        Licznik.ile += 1       # odwołanie do pola statycznego\n",
        "        self.ktory = Licznik.ile\n",
        "        print(f\"To jest obiekt nr {Licznik.ile}\")\n",
        "    def __del__(self):         # destruktor, czyli kod, który wykonuje się\n",
        "                               # podczas niszczenia obiektu\n",
        "        Licznik.ile -= 1\n",
        "        print(f\"Niszczę obiekt nr {self.ktory}, pozostało jeszcze {Licznik.ile}.\")\n",
        "    @staticmethod\n",
        "    def policz():\n",
        "        return Licznik.ile\n",
        "        \n",
        "def main():\n",
        "    a = Licznik()\n",
        "    b = Licznik()\n",
        "    c = Licznik()\n",
        "    print(f\"a to obiekt nr {a.ktory}\")\n",
        "    print(f\"b to obiekt nr {b.ktory}\")\n",
        "    print(f\"c to obiekt nr {c.ktory}\")\n",
        "    print(f\"Liczba obiektow to: {Licznik.policz()}\")\n",
        "    a = None\n",
        "    b = None\n",
        "    print(f\"Liczba obiektow to: {Licznik.policz()}\")\n",
        "if __name__ == \"__main__\":\n",
        "    main()"
      ]
    },
    {
      "cell_type": "markdown",
      "metadata": {
        "id": "43-Au_UqgFqN"
      },
      "source": [
        "### Dostęp do pól\n",
        "\n",
        "W wielu językach spotyka się rozróżnienie: publiczne - chronione - prywatne.\n",
        "\n",
        "*Pole publiczne* - dostęp mają wszyscy;\n",
        "\n",
        "*Pole chronione* – dostęp mają klasy dziedziczące;\n",
        "\n",
        "*Pole prywatne* – dostęp ma tylko ta klasa.\n",
        "\n",
        "W Pythonie jest to bardziej umowne i nie chroni faktycznie przed dostępem do pól.\n",
        "Pola chronione poprzedzamy jednym podkreślnikiem, a pola prywatne dwoma."
      ]
    },
    {
      "cell_type": "code",
      "execution_count": null,
      "metadata": {
        "id": "lIsLWHyCgJSc"
      },
      "outputs": [],
      "source": [
        "class Test:\n",
        "    def __init__(self):\n",
        "        self.publiczne, self._chronione, self.__prywatne = 1, 2, 3\n",
        "def main():\n",
        "    test = Test()\n",
        "    print(test.publiczne)\n",
        "    print(test._chronione) \n",
        "    # print(test.__prywatne) # to zwróci nam błąd\n",
        "    print(test._Test__prywatne) # ale wciąż możemy się odwołać przez klasę\n",
        "if __name__ == \"__main__\":\n",
        "    main()"
      ]
    },
    {
      "cell_type": "code",
      "execution_count": null,
      "metadata": {
        "id": "8a2Jamub7wUt"
      },
      "outputs": [],
      "source": []
    },
    {
      "cell_type": "markdown",
      "metadata": {
        "id": "vVjI1Y_e5Lq4"
      },
      "source": [
        "## ZADANIA STRUKTURY DANYCH"
      ]
    },
    {
      "cell_type": "code",
      "execution_count": null,
      "metadata": {
        "id": "9Ha-RGYt5QF1"
      },
      "outputs": [],
      "source": [
        "'''\n",
        "Okazuje się, że można obliczyć potęgę przy użyciu mniejszej liczby mnożeń, korzystając z rekurencji. \n",
        "W tym celu przeanalizujmy przykład: $2^7$ = $2^3$ * $2^3$ * 2. Jak widzimy, wystarczy raz obliczyć $2^3$. \n",
        "Następnie można ten wynik przemnożyć przez samego siebie, \n",
        "a potem, jeśli oryginalny wykładnik był nieparzysty (a był, bo było to 7), \n",
        "domnożyć jeszcze raz przez podstawę. \n",
        "\n",
        "Napisz funkcję sprytne_potegowanie(podstawa, wykladnik), \n",
        "która oblicza zadaną potęgę w podany sposób: wywołuje rekurencyjnie samą siebie dla wykładnika \n",
        "podzielonego na dwa (z zaokrągleniem) jak w przykładzie, a następnie operując na tym częściowym wyniku oblicza pełną potęgę.\n",
        "'''\n",
        "\n"
      ]
    },
    {
      "cell_type": "code",
      "execution_count": 14,
      "metadata": {},
      "outputs": [
        {
          "data": {
            "text/plain": [
              "32"
            ]
          },
          "execution_count": 14,
          "metadata": {},
          "output_type": "execute_result"
        }
      ],
      "source": [
        "def sprytne_potegowanie(podstawa, wykladnik):\n",
        "    if wykladnik == 0:\n",
        "        return 1\n",
        "    elif wykladnik == 1:\n",
        "        return podstawa\n",
        "    else:\n",
        "        return podstawa*sprytne_potegowanie(podstawa, wykladnik-1)\n",
        "sprytne_potegowanie(2, 5)"
      ]
    },
    {
      "cell_type": "code",
      "execution_count": null,
      "metadata": {
        "id": "6K5Xbs5h7tK_"
      },
      "outputs": [],
      "source": [
        "'''\n",
        "Napisz funkcję czyPalindrom(), która zwraca prawdę, gdy podany jako argument napis jest palindromem, \n",
        "to znaczy czytany wspak da ten sam napis, np. “kajak”. Funkcja zwraca fałsz w przeciwnym wypadku.\n",
        "'''\n",
        "\n"
      ]
    },
    {
      "cell_type": "code",
      "execution_count": 16,
      "metadata": {},
      "outputs": [
        {
          "data": {
            "text/plain": [
              "True"
            ]
          },
          "execution_count": 16,
          "metadata": {},
          "output_type": "execute_result"
        }
      ],
      "source": [
        "def czyPalindrom(napis):\n",
        "    odwroc = napis[::1]\n",
        "    if odwroc == napis:\n",
        "        return True\n",
        "    return False\n",
        "\n",
        "# lub\n",
        "\n",
        "# def czyPalindrom(napis):\n",
        "#     return napis == napis[::1]\n",
        "\n",
        "czyPalindrom(\"kajak\")"
      ]
    },
    {
      "cell_type": "code",
      "execution_count": null,
      "metadata": {
        "id": "YVRgO9Vd7wNr"
      },
      "outputs": [],
      "source": [
        "'''\n",
        "Napisz funkcję czyAnagram(), która zwraca prawdę, gdy dwa napisy podane jako dwa argumenty funkcji mają tę własność, \n",
        "że da się z liter pierwszego napisu ułożyć drugi napis. To zadanie da się rozwiązać na naprawdę wiele sposobów, \n",
        "a najwydajniejszy z nich zakłada użycie słowników.\n",
        "'''"
      ]
    },
    {
      "cell_type": "code",
      "execution_count": null,
      "metadata": {
        "id": "Y-OXVZ5Z72ZF"
      },
      "outputs": [],
      "source": [
        "'''\n",
        "Napisz funkcję moda(), która jako parametr przyjmuje listę liczb całkowitych. \n",
        "Funkcja zwraca tę liczbę, która pojawia się w tej liście najczęściej. \n",
        "Jeśli mamy remis, zwróć którąkolwiek z tych liczb.\n",
        "'''"
      ]
    },
    {
      "cell_type": "code",
      "execution_count": null,
      "metadata": {},
      "outputs": [],
      "source": [
        "def moda(lista):\n",
        "    licznik = {}\n",
        "    for liczba in lista:\n",
        "        if liczba in licznik:\n",
        "            licznik[liczba] += 1\n",
        "        else:\n",
        "            licznik[liczba] = 1\n",
        "    \n",
        "    najczestsza_liczba = None\n",
        "    najwiecej_wystapien = 0\n",
        "    \n",
        "    for liczba, ilosc_wystapien in licznik.items():\n",
        "        if ilosc_wystapien > najwiecej_wystapien:\n",
        "            najczestsza_liczba = liczba\n",
        "            najwiecej_wystapien = ilosc_wystapien\n",
        "    \n",
        "    return najczestsza_liczba\n",
        "\n",
        "moda([1,4,5,6,3,5,5,5,7,7,5,5])"
      ]
    },
    {
      "cell_type": "code",
      "execution_count": null,
      "metadata": {
        "id": "UmnyyX0z9BTp"
      },
      "outputs": [],
      "source": [
        "def main():\n",
        "    print(\"2^10 = \" + str(potega_wydajnie(2, 10)))\n",
        "    print(\"czyPalindrom(kajak) = \" + str(czyPalindrom(\"kajak\")))\n",
        "    print(\"czyPalindrom(kobyla) = \" + str(czyPalindrom(\"kobyla\")))\n",
        "    print(\"czyPalindrom2(kajak) = \" + str(czyPalindrom2(\"kajak\")))\n",
        "    print(\"czyPalindrom2(kobyla) = \" + str(czyPalindrom2(\"kobyla\")))\n",
        "    print(\"czyAnagram(kajak, jaakk) = \" + str(czyAnagram(\"kajak\", \"jaakk\")))\n",
        "    print(\"czyAnagram(kobyla, boczek) = \" + str(czyAnagram(\"kobyla\", \"boczek\")))\n",
        "    print(\"moda([1,6,4,7,2,8,6,7,6]) = \" + str(moda([1,6,4,7,2,8,6,7,6])))\n",
        "\n",
        "\n",
        "if __name__ == \"__main__\":\n",
        "    main()"
      ]
    },
    {
      "cell_type": "markdown",
      "metadata": {
        "id": "XEPdtdxM5Rs_"
      },
      "source": [
        "## ZADANIA OBIEKTOWOŚĆ"
      ]
    },
    {
      "cell_type": "code",
      "execution_count": null,
      "metadata": {
        "id": "PSFppP5hW6Lu"
      },
      "outputs": [],
      "source": [
        "'''\n",
        "1. Napisz klasę FunkcjaKwadratowa, która przechowuje funkcje typu $ax^2$+bx+c. \n",
        "Klasa powinna zawierać trzy pola: a, b, c, które są przypisywane w konstruktorze. \n",
        "Główną metodą powinna być Rozwiaz(), która zwraca miejsca zerowe podanej funkcji. \n",
        "Należy zwrócić uwagę na przypadki gdy a=0, b=0 lub c=0, \n",
        "a także obmyślić sposób informowania o nieskończonej liczbie, jednym lub zerze rozwiązań.\n",
        "'''"
      ]
    },
    {
      "cell_type": "code",
      "execution_count": null,
      "metadata": {
        "id": "k4Rtxqpe85E0"
      },
      "outputs": [],
      "source": [
        "'''\n",
        "początek kodu dla ułatwienia\n",
        "\n",
        "'''\n",
        "import math\n",
        "\n",
        "class FunkcjaKwadratowa:\n",
        "    def __init__(self, a, b, c):\n",
        "        self.a = a\n",
        "        self.b = b\n",
        "        self.c = c\n",
        "\n",
        "    def wypisz(self):\n",
        "        ...\n",
        "\n",
        "    def oblicz_wartosc(self, x):\n",
        "        ...\n",
        "\n",
        "    def rozwiaz(self):\n",
        "        ...\n",
        "\n",
        "def main():\n",
        "    f1 = FunkcjaKwadratowa(2, 3, 1)\n",
        "    f1.wypisz()\n",
        "    print(f1.oblicz_wartosc(0))\n",
        "    print(f1.oblicz_wartosc(1))\n",
        "\n",
        "    print(FunkcjaKwadratowa(0, 0, 0).rozwiaz())\n",
        "    print(FunkcjaKwadratowa(0, 0, 1).rozwiaz())\n",
        "    print(FunkcjaKwadratowa(0, 2, 3).rozwiaz())\n",
        "    print(FunkcjaKwadratowa(1, 2, 3).rozwiaz())\n",
        "    print(FunkcjaKwadratowa(1, -5, 6).rozwiaz())\n",
        "    print(FunkcjaKwadratowa(1, 4, 4).rozwiaz())\n",
        "\n",
        "if __name__ == \"__main__\":\n",
        "    main()"
      ]
    },
    {
      "cell_type": "code",
      "execution_count": null,
      "metadata": {
        "id": "7PseOVLxLFCV"
      },
      "outputs": [],
      "source": [
        "'''2. Napisz klasę Zespolona, która przechowuje liczby zespolone: a+bi. \n",
        "Niech część rzeczywista nazywa się re (od real), a urojona im (od imagine). Poza tymi dwoma polami zdefiniuj metody:\n",
        "\n",
        "modul(), oblicza moduł liczby zespolonej a+bi: √$a^2$+$b^2$\n",
        "dodaj(), mnoz() (statyczne) – obliczają odpowiednio sumę i iloczyn dwóch liczb zespolonych'''"
      ]
    },
    {
      "cell_type": "code",
      "execution_count": null,
      "metadata": {
        "id": "3DZXZNpT85UX"
      },
      "outputs": [],
      "source": [
        "class Zespolona:\n",
        "    def __init__(self, re, im):\n",
        "        self.re = re\n",
        "        self.im = im\n",
        "\n",
        "    def wypisz(self):\n",
        "        ...\n",
        "\n",
        "    def modul(self):\n",
        "        ...\n",
        "\n",
        "    @staticmethod\n",
        "    def dodaj(z1, z2):\n",
        "        ...\n",
        "\n",
        "    @staticmethod\n",
        "    def odejmij(z1, z2):\n",
        "        ...\n",
        "\n",
        "    @staticmethod\n",
        "    def mnoz(z1, z2):\n",
        "        ...\n",
        "\n",
        "def main():\n",
        "    z1 = Zespolona(3, 4)\n",
        "    z2 = Zespolona(2, 6)\n",
        "    z1.wypisz()\n",
        "    print(z1.modul())\n",
        "    Zespolona.dodaj(z1, z2).wypisz()\n",
        "    Zespolona.odejmij(z1, z2).wypisz()\n",
        "    Zespolona.mnoz(z1, z2).wypisz()\n",
        "if __name__ == \"__main__\":\n",
        "   main()"
      ]
    },
    {
      "cell_type": "code",
      "execution_count": null,
      "metadata": {
        "id": "__grcbBB8pYE"
      },
      "outputs": [],
      "source": [
        "'''3. Napisz klasę Ulamek, która przechowuje ułamki postaci ab. \n",
        "Klasa przechowuje dwa pola: licznik i mianownik. Napisz metody:\n",
        "\n",
        "skroc(), skraca ułamek, wymaga obliczenia największego wspólnego dzielnika\n",
        "dodaj(), odejmij(), mnoz(), dziel() (statyczne) – obliczają odpowiednio sumę i iloczyn dwóch ułamków'''"
      ]
    },
    {
      "cell_type": "code",
      "execution_count": null,
      "metadata": {
        "id": "7Iun8WUx859j"
      },
      "outputs": [],
      "source": [
        "class Ulamek:\n",
        "    ...\n",
        "\n",
        "    \n",
        "def main():\n",
        "    u1 = Ulamek(3, 4)\n",
        "    u2 = Ulamek(2, 6) # nieskrocony\n",
        "    u1.wypisz()\n",
        "    u2.wypisz()\n",
        "    u2.skroc()\n",
        "    u2.wypisz()\n",
        "    print(\"Dodawanie\")\n",
        "    Ulamek.dodaj(u1, u2).wypisz()\n",
        "    print(\"Odejmowanie\")\n",
        "    Ulamek.odejmij(u1, u2).wypisz()\n",
        "    print(\"Mnozenie\")\n",
        "    Ulamek.mnoz(u1, u2).wypisz()\n",
        "    print(\"Dzielenie\")\n",
        "    Ulamek.dziel(u1, u2).wypisz()\n",
        "if __name__ == \"__main__\":\n",
        "   main()"
      ]
    },
    {
      "cell_type": "code",
      "execution_count": null,
      "metadata": {
        "id": "XjXJPI5X-qQS"
      },
      "outputs": [],
      "source": [
        "''' Stwórz hierarchię klas reprezentujących figury geometryczne. \n",
        "Każda figura powinna umieć wypisać informacje o sobie, a także obliczyć swój obwód i pole. \n",
        "W grę niech wchodzą koła, prostokąty, kwadraty oraz trójkąty. \n",
        "Czy prostokąt i kwadrat mogą być połączone relacją dziedziczenia?\n",
        "'''"
      ]
    },
    {
      "cell_type": "code",
      "execution_count": null,
      "metadata": {
        "id": "SFeGY3yT-uPX"
      },
      "outputs": [],
      "source": [
        "from abc import ABC, abstractmethod\n",
        "import math\n",
        "\n",
        "class Figura(ABC):\n",
        "    @abstractmethod\n",
        "    def nazwa(self):\n",
        "        pass\n",
        "\n",
        "    def wypisz(self):\n",
        "        print(f\"Jestem {self.nazwa()}. Moj obwod: {self.obwod()}, a pole: {self.pole()}.\")\n",
        "\n",
        "    @abstractmethod\n",
        "    def obwod(self):\n",
        "        pass\n",
        "\n",
        "    @abstractmethod\n",
        "    def pole(self):\n",
        "        pass\n",
        "\n",
        "class Trojkat(Figura):\n",
        "    ...\n",
        "\n",
        "class Kolo(Figura):\n",
        "    ...\n",
        "\n",
        "class Kwadrat(Figura):\n",
        "    ...\n",
        "\n",
        "class Prostokat(Kwadrat):\n",
        "    ...\n",
        "    \n",
        "def main():\n",
        "    t = Trojkat(3.0, 4.0, 5.0)\n",
        "    t.wypisz()\n",
        "    k = Kolo(4, 5, 1)\n",
        "    k.wypisz()\n",
        "    kw = Kwadrat(3)\n",
        "    kw.wypisz()\n",
        "    p = Prostokat(4, 5)\n",
        "    p.wypisz()\n",
        "\n",
        "    lista_figur = [t, k, kw, p]\n",
        "    suma_pol = 0\n",
        "    suma_obwodow = 0\n",
        "    for f in lista_figur:\n",
        "        suma_pol += f.pole()\n",
        "        suma_obwodow += f.obwod()\n",
        "\n",
        "    print(suma_pol)\n",
        "    print(suma_obwodow)\n",
        "\n",
        "if __name__ == \"__main__\":\n",
        "    main()"
      ]
    },
    {
      "cell_type": "code",
      "execution_count": null,
      "metadata": {
        "id": "MtFHYtI0-ucm"
      },
      "outputs": [],
      "source": [
        "''' Stwórz hierarchię klas: \n",
        "węzeł dodawania, odejmowania, mnożenia i dzielenia, a także silnii. \n",
        "Poza tym powinien być węzeł zwykłej wartości typu float. \n",
        "Węzły dodawania, odejmowania, mnożenia i dzielenia mają po dwa węzły potomne \n",
        "(być może inne działanie, a być może po prostu wartość), silnia jeden węzeł potomny, \n",
        "a wartość nie ma żadnych dzieci. Kluczową będzie tu metoda abstrakcyjne oblicz_wartosc(), \n",
        "która zwraca obliczoną wartość danego węzła. Polami powinny być węzły potomne.\n",
        "'''\n"
      ]
    },
    {
      "cell_type": "code",
      "execution_count": null,
      "metadata": {
        "id": "NHgh3c8L-1ec"
      },
      "outputs": [],
      "source": [
        "from abc import ABC, abstractmethod\n",
        "import math\n",
        "\n",
        "class Wezel(ABC):\n",
        "    ...\n",
        "\n",
        "class Liczba(Wezel):\n",
        "    ...\n",
        "\n",
        "class Suma(Wezel):\n",
        "    ...\n",
        "    \n",
        "class Roznica(Wezel):\n",
        "    ...\n",
        "\n",
        "class Iloczyn(Wezel):\n",
        "    ...\n",
        "    \n",
        "class Iloraz(Wezel):\n",
        "    ...\n",
        "\n",
        "class Silnia(Wezel):\n",
        "    ...\n",
        "\n",
        "def main():\n",
        "    minus_jeden = Liczba(-1)\n",
        "    cztery = Liczba(4)\n",
        "    piec = Liczba(5)\n",
        "    siedem = Liczba(7)\n",
        "    osiem = Liczba(8)\n",
        "\n",
        "    dodawanie = Suma(piec, siedem)\n",
        "    odejmowanie = Roznica(osiem, cztery)\n",
        "    mnozenie = Iloczyn(dodawanie, odejmowanie)\n",
        "    dzielenie = Iloraz(mnozenie, minus_jeden)\n",
        "    silnia = Silnia(dzielenie)\n",
        "\n",
        "    silnia.wypisz()\n",
        "if __name__ == \"__main__\":\n",
        "    main()"
      ]
    }
  ],
  "metadata": {
    "colab": {
      "provenance": []
    },
    "kernelspec": {
      "display_name": "Python 3",
      "name": "python3"
    },
    "language_info": {
      "codemirror_mode": {
        "name": "ipython",
        "version": 3
      },
      "file_extension": ".py",
      "mimetype": "text/x-python",
      "name": "python",
      "nbconvert_exporter": "python",
      "pygments_lexer": "ipython3",
      "version": "3.11.2"
    }
  },
  "nbformat": 4,
  "nbformat_minor": 0
}
