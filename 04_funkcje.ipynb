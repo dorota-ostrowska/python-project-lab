{
  "nbformat": 4,
  "nbformat_minor": 0,
  "metadata": {
    "colab": {
      "provenance": [],
      "collapsed_sections": [
        "uZ9HJbJGpx5v",
        "J3KdtkWUqLrN",
        "HsusBWu8qlRu",
        "MVOlHz1IljzP",
        "Vl_5gJIqlj4n",
        "sgmcj5MqluJb"
      ],
      "toc_visible": true
    },
    "kernelspec": {
      "name": "python3",
      "display_name": "Python 3"
    },
    "language_info": {
      "name": "python"
    }
  },
  "cells": [
    {
      "cell_type": "markdown",
      "source": [
        "## Funkcje\n",
        "\n",
        "Funkcje pozwalają na dzielenie problemu na mniejsze zadania. Każda funkcja odpowiada za inną funkcjonalność/działanie programu.\n",
        "\n",
        "Do wyboru mamy funkcje wbudowane w Pythonie oraz funkcje, które definiujemy sami.\n",
        "\n",
        "Funkcje warto definiować ponieważ:\n",
        "  1. pozwalają ponownie wykorzystać napisany kod\n",
        "  2. poprawiają czytelność kodu"
      ],
      "metadata": {
        "id": "ozawuwnMSjUg"
      }
    },
    {
      "cell_type": "markdown",
      "source": [
        "### Definiowanie funkcji\n",
        "\n",
        "Funkcje definiujemy korzystając ze słowa kluczowego `def`, po nim piszemy nazwę funkcji, najlepiej jako nazwa czynności, a następnie nawiasy okrągłe i dwukropekl, a po wcięciu w kolejnej linijce mamy ciało funkcji - operacje"
      ],
      "metadata": {
        "id": "vXxOwd1UUsiQ"
      }
    },
    {
      "cell_type": "code",
      "execution_count": null,
      "metadata": {
        "id": "8eQVHYSaIRzM"
      },
      "outputs": [],
      "source": [
        "def function_name(arguments): # argumenty są opcjonalne\n",
        "    # ciało funkcji \n",
        "\n",
        "    return # słowo kluczowe return jest opcjonalne"
      ]
    },
    {
      "cell_type": "code",
      "source": [
        "def greet():\n",
        "    print('Hello World!')\n",
        "\n",
        "# wywołanie funkcji\n",
        "greet()\n",
        "\n",
        "print('Kod poza funkcją')"
      ],
      "metadata": {
        "id": "KJpJ4EMmVFW6"
      },
      "execution_count": null,
      "outputs": []
    },
    {
      "cell_type": "markdown",
      "source": [
        "### Argumenty funkcji\n",
        "\n",
        "Funkcja może przyjmować argumenty, czyli wartości lub nazwy zmiennych, na których przeprowadzimy jakąś operację"
      ],
      "metadata": {
        "id": "5In214ymVU_4"
      }
    },
    {
      "cell_type": "code",
      "source": [
        "# funkcja z dwoma argumentami\n",
        "def add_numbers(num1, num2):\n",
        "    sum = num1 + num2\n",
        "    print('Sum: ',sum)\n",
        "\n",
        "# funkcja bez argumentów\n",
        "# def add_numbers():\n",
        "    # code"
      ],
      "metadata": {
        "id": "Sy4hkOyOVYCB"
      },
      "execution_count": null,
      "outputs": []
    },
    {
      "cell_type": "code",
      "source": [
        "# wywołanie funkcji\n",
        "add_numbers(5, 4)\n",
        "\n",
        "# wywołanie funkcji bez argumentów\n",
        "# add_numbers()"
      ],
      "metadata": {
        "id": "ex8qZazJWQdg"
      },
      "execution_count": null,
      "outputs": []
    },
    {
      "cell_type": "markdown",
      "source": [
        "### Instrukcja return\n",
        "Funkcja może nic nie zwracać, tylko np. wypisywać coś do konsoli, lub zwracać wynik operacji - do zwrócenia wyniku korzystamy ze słowa kluczowego return"
      ],
      "metadata": {
        "id": "-2XOV70sWWa4"
      }
    },
    {
      "cell_type": "code",
      "source": [
        "def add_numbers():\n",
        "    ...\n",
        "    return sum"
      ],
      "metadata": {
        "id": "AvLARyJGWWG5"
      },
      "execution_count": null,
      "outputs": []
    },
    {
      "cell_type": "code",
      "source": [
        "# definiujemy funkcję\n",
        "def find_square(num):\n",
        "    result = num * num\n",
        "    return result\n",
        "\n",
        "# wywołujemy funkcję i przypisujemy wynik do zmiennej\n",
        "square = find_square(3)\n",
        "\n",
        "print('Square:',square)"
      ],
      "metadata": {
        "id": "i9mrCycgWkDk"
      },
      "execution_count": null,
      "outputs": []
    },
    {
      "cell_type": "code",
      "source": [
        "# dodamy dwa argumenty\n",
        "def add_numbers(num1, num2):\n",
        "    sum = num1 + num2\n",
        "    return sum\n",
        "\n",
        "# wywołujemy funkcję\n",
        "result = add_numbers(5, 4)\n",
        "\n",
        "print('Sum: ', result)"
      ],
      "metadata": {
        "id": "zpWijeXnWpwU"
      },
      "execution_count": null,
      "outputs": []
    },
    {
      "cell_type": "markdown",
      "source": [
        "### Zdefiniowane funkcje\n",
        "\n",
        "Mamy też wiele gotowych funkcji, poniżej przykład z pakietem math, który zawiera wiele funkcji do operacji matematycznych."
      ],
      "metadata": {
        "id": "V-sa1HjmWsBv"
      }
    },
    {
      "cell_type": "code",
      "source": [
        "import math\n",
        "\n",
        "# sqrt computes the square root\n",
        "square_root = math.sqrt(4)\n",
        "\n",
        "print(\"Square Root of 4 is\",square_root)\n",
        "\n",
        "# pow() comptes the power\n",
        "power = pow(2, 3)\n",
        "\n",
        "print(\"2 to the power 3 is\",power)"
      ],
      "metadata": {
        "id": "_jhwT2H2Wvcr"
      },
      "execution_count": null,
      "outputs": []
    },
    {
      "cell_type": "markdown",
      "source": [
        "### ĆWICZENIA"
      ],
      "metadata": {
        "id": "gDIy6z1CaJxe"
      }
    },
    {
      "cell_type": "code",
      "source": [
        "# Zdefiniuj funkcję, która będzie WYŚWIETLAŁA imię i wiek przekazany w argumencie\n",
        "\n"
      ],
      "metadata": {
        "id": "9ToFfj7kaLrE"
      },
      "execution_count": null,
      "outputs": []
    },
    {
      "cell_type": "code",
      "source": [
        "# Napisz funkcję, która pobiera imię i nazwisko od użytkownika a następnie wyświela komunikat, w którym się z nim wita\n",
        " "
      ],
      "metadata": {
        "id": "GneNPuDKdvvE"
      },
      "execution_count": null,
      "outputs": []
    },
    {
      "cell_type": "code",
      "source": [
        "# napisz funkcję, która będzie WYŚWIETLAŁA ciąg Fibonnaciego o długości podanej w argumencie\n"
      ],
      "metadata": {
        "id": "AXzjnEWFdoDK"
      },
      "execution_count": 1,
      "outputs": []
    },
    {
      "cell_type": "code",
      "source": [
        "create_fibonnaci(20)"
      ],
      "metadata": {
        "id": "Ssk0p5Dqe9VT",
        "colab": {
          "base_uri": "https://localhost:8080/"
        },
        "outputId": "2e5a22e1-31d1-443f-c3f5-8af285bf2632"
      },
      "execution_count": 2,
      "outputs": [
        {
          "output_type": "stream",
          "name": "stdout",
          "text": [
            "Ciąg Fibonnaciego: \n",
            "0  1  1  2  3  5  8  13  21  34  55  89  144  233  377  610  987  1597  2584  4181  "
          ]
        }
      ]
    },
    {
      "cell_type": "code",
      "source": [
        "# napisz funkcję, która ZWRACA silnię podanej liczby. Upewnij się, że silnia jest możliwa, w przeciwnym wypadku wyświetl komunikat o błędzie i nie zwracaj nic\n",
        "\n"
      ],
      "metadata": {
        "id": "uwMkehKcfDmT"
      },
      "execution_count": null,
      "outputs": []
    },
    {
      "cell_type": "code",
      "source": [
        "silnia = factorial(5)\n",
        "print(silnia)"
      ],
      "metadata": {
        "colab": {
          "base_uri": "https://localhost:8080/"
        },
        "id": "QC8SznKAf312",
        "outputId": "d624c13e-05bc-4161-e298-67abd606b2f3"
      },
      "execution_count": null,
      "outputs": [
        {
          "output_type": "stream",
          "name": "stdout",
          "text": [
            "120\n"
          ]
        }
      ]
    },
    {
      "cell_type": "markdown",
      "source": [
        "### Argumenty funkcji - wartości domyślne\n",
        "Czasami zakładamy, że nie każdy argument musi zostać podany i ustawiamy wartość domyślną."
      ],
      "metadata": {
        "id": "B9Yt8_1pZ-Qc"
      }
    },
    {
      "cell_type": "code",
      "source": [
        "# klasyczna funkcja\n",
        "def add_numbers(a, b):\n",
        "    sum = a + b\n",
        "    print('Sum:', sum)\n",
        "\n",
        "add_numbers(2, 3)"
      ],
      "metadata": {
        "id": "Kyi7ay6maPhc"
      },
      "execution_count": null,
      "outputs": []
    },
    {
      "cell_type": "code",
      "source": [
        "# funkcja z domyślnymi wartościami\n",
        "def add_numbers( a = 7,  b = 8):\n",
        "    sum = a + b\n",
        "    print('Sum:', sum)\n",
        "\n",
        "\n",
        "# wywołanie funkcji\n",
        "add_numbers(2, 3)\n",
        "\n",
        "add_numbers(a = 2)\n",
        "\n",
        "add_numbers()"
      ],
      "metadata": {
        "id": "HbBOEkoNb5-Q"
      },
      "execution_count": null,
      "outputs": []
    },
    {
      "cell_type": "markdown",
      "source": [
        "### Aegumenty funkcji - słowa klucze\n",
        "Argumenty można przekazywać po kluczach, jest to dobre również wtedy gdy mamy argumenty domyślne."
      ],
      "metadata": {
        "id": "RCjlNmpScNuW"
      }
    },
    {
      "cell_type": "code",
      "source": [
        "def display_info(first_name, last_name):\n",
        "    print('First Name:', first_name)\n",
        "    print('Last Name:', last_name)\n",
        "\n",
        "display_info(last_name = 'Cartman', first_name = 'Eric')"
      ],
      "metadata": {
        "id": "_cNUp5NkcRET"
      },
      "execution_count": null,
      "outputs": []
    },
    {
      "cell_type": "code",
      "source": [
        "# UWAGA! Jeśli nie wszystkie argumenty są domyślne, te domyślne podajemy na końcu\n",
        "def display_info(first_name, last_name='Wnuk'):\n",
        "    print('First Name:', first_name)\n",
        "    print('Last Name:', last_name)\n",
        "\n",
        "display_info(first_name = 'Dominika')"
      ],
      "metadata": {
        "id": "1ZoXXmTdcbnU"
      },
      "execution_count": null,
      "outputs": []
    },
    {
      "cell_type": "markdown",
      "source": [
        "### Argumenty funkcji - nieznana liczba argumentów\n",
        "\n",
        "Może się zdarzyć, że nie wiemy ile argumentów zostanie przekazanych. Argumenty o nieznanej liczebności poprzedzamy gwiazdką *"
      ],
      "metadata": {
        "id": "kFN-OEVXc28Z"
      }
    },
    {
      "cell_type": "code",
      "source": [
        "# Szukamy sumy wszystkich przekazanych liczb \n",
        "\n",
        "def find_sum(*numbers):\n",
        "    result = 0\n",
        "    \n",
        "    for num in numbers:\n",
        "        result = result + num\n",
        "    \n",
        "    print(\"Sum = \", result)\n",
        "\n",
        "# możemy podać 3 argumenty\n",
        "find_sum(1, 2, 3)\n",
        "\n",
        "# albo 2 albo dowolną liczbę\n",
        "find_sum(4, 9)"
      ],
      "metadata": {
        "id": "UntHkdj-czRj"
      },
      "execution_count": null,
      "outputs": []
    },
    {
      "cell_type": "markdown",
      "source": [
        "### ĆWICZENIA"
      ],
      "metadata": {
        "id": "vQrjpDO-aODb"
      }
    },
    {
      "cell_type": "code",
      "source": [
        "# napisz funkcję, która będzie przyjmowała dowolną liczbę liczb i zwracała ich iloczyn\n",
        "\n"
      ],
      "metadata": {
        "id": "MvijzG9QhPtU"
      },
      "execution_count": null,
      "outputs": []
    },
    {
      "cell_type": "code",
      "source": [
        "# napisz funkcję, która będzie przyjmowała dowolną liczbę liczb i zwracała ich iloczyn i iloraz w jednej funkcji\n"
      ],
      "metadata": {
        "id": "kDsoyMLkhzg1"
      },
      "execution_count": null,
      "outputs": []
    },
    {
      "cell_type": "code",
      "source": [
        "# napisz funkcję, która będzie przyjmowała dwie liczby oraz string, z informajcą jaka to ma być operacja matematyczna - do wyboru: dodawanie, odejmowanie, mnożenie i dzielenie\n",
        "# jeśli nie podano operacji, domyślnie będzie to dodawanie\n",
        "# dodatkowo postaraj się skorzystać z konstrukcji match case\n",
        "# ma zwracać wynik wybranej operacji\n",
        "\n"
      ],
      "metadata": {
        "id": "33icf6KVaODc"
      },
      "execution_count": null,
      "outputs": []
    },
    {
      "cell_type": "markdown",
      "source": [
        "### Rekurencja\n",
        "\n",
        "Rekurencja to funkcja, która wywołuje sama siebie. Możemy sobie to wyobrazić jako dwa lustra skierowane ku sobie. Ich odbicie się zapętla między nimi.\n",
        "\n",
        "W Pythonie funkcja może wywoływać inną funkcję wewnątrz siebie."
      ],
      "metadata": {
        "id": "kpw0V3SyiEaL"
      }
    },
    {
      "cell_type": "code",
      "source": [
        "# przeróbmy ostatnie ćwiczenie, tak aby dodatkowo zdefiniować 4 funkcje:\n",
        "def dodawanie():\n",
        "  pass\n",
        "def odejmowanie():\n",
        "  pass\n",
        "def mnozenie():\n",
        "  pass\n",
        "def dzielenie():\n",
        "  pass\n",
        "\n",
        "# A następnie podstawmy je w miejsce operacji w naszej dużej funkcji bazowej"
      ],
      "metadata": {
        "id": "arMp_UYGiyz-"
      },
      "execution_count": null,
      "outputs": []
    },
    {
      "cell_type": "markdown",
      "source": [
        "![image.png](data:image/png;base64,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)"
      ],
      "metadata": {
        "id": "5Xo65JWYinlL"
      }
    },
    {
      "cell_type": "code",
      "source": [
        "# np. chcemy obliczyć sumę liczb w zakresie\n",
        "# tradycyjnie:\n",
        "def sum(n):\n",
        "    total = 0\n",
        "    for index in range(n+1):\n",
        "        total += index\n",
        "\n",
        "    return total\n",
        "\n",
        "\n",
        "result = sum(10)\n",
        "print(result)\n",
        "\n",
        "# rekurencyjnie\n",
        "def sum_rec(n):\n",
        "  if n > 0:\n",
        "    return n + sum_rec(n-1)\n",
        "  return 0\n",
        "result_rec = sum_rec(10)\n",
        "print(result_rec)"
      ],
      "metadata": {
        "id": "g59bigQHjvDO"
      },
      "execution_count": null,
      "outputs": []
    },
    {
      "cell_type": "code",
      "source": [
        "# Teraz możemy przerobić naszą funkcję silnii na funkcję rekurencyjną\n",
        "def factorial(x):\n",
        "    \"\"\"Piszemy funkcję rekurencyjną\n",
        "    do obliczenia x!\"\"\"\n",
        "\n",
        "    if x == 1:\n",
        "        return 1\n",
        "    else:\n",
        "        return (x * factorial(x-1))\n",
        "\n",
        "\n",
        "num = 3\n",
        "print(f\"{num}! jest równe {factorial(num)}\")"
      ],
      "metadata": {
        "id": "JPL3zBwgiGV9"
      },
      "execution_count": null,
      "outputs": []
    },
    {
      "cell_type": "markdown",
      "source": [
        "![image.png](data:image/png;base64,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)"
      ],
      "metadata": {
        "id": "lRyeUjh2kqtH"
      }
    },
    {
      "cell_type": "markdown",
      "source": [
        "Funkcje rekurencyjne będą bardzo przydatne w rozwiązywaniu problemów ADS 😀"
      ],
      "metadata": {
        "id": "N1XCwlB6k0EM"
      }
    },
    {
      "cell_type": "markdown",
      "source": [
        "### Funkcje anonimowe\n",
        "\n",
        "W Pythonie możemy pisać funkcje, które nie mają swojej nazwy, dlatego mówimy na nie anonimowe.\n",
        "Składają się ze słowa kluczowego lambda, argumentów i ciała funkcji:\n",
        "``` lambda argument(y): operacja```"
      ],
      "metadata": {
        "id": "uYLdvqYpldZZ"
      }
    },
    {
      "cell_type": "code",
      "source": [
        "lambda x, y: x + y"
      ],
      "metadata": {
        "id": "Kl5-ocPvlfzu"
      },
      "execution_count": null,
      "outputs": []
    },
    {
      "cell_type": "code",
      "source": [
        "# możemy funkcję zapisać do zmiennej i wywołać\n",
        "addition = lambda x, y: x + y\n",
        "addition(1,2)"
      ],
      "metadata": {
        "id": "7VRl3D27pH6n"
      },
      "execution_count": null,
      "outputs": []
    },
    {
      "cell_type": "code",
      "source": [
        "# możemy też definiować funkcje bez argumentów\n",
        "say_hello = lambda: print(\"Hello class\")\n",
        "say_hello()"
      ],
      "metadata": {
        "id": "F6XEGVwKpT9b"
      },
      "execution_count": null,
      "outputs": []
    },
    {
      "cell_type": "markdown",
      "source": [
        "### Global, local i nonlocal\n",
        "\n",
        "W Pythonie zmienne dzielimy na lokalne, globalne i nielokalne w zależności od tego w jakim \"obszarze\" kodu są dostępne."
      ],
      "metadata": {
        "id": "eiq_Z5JwljtV"
      }
    },
    {
      "cell_type": "markdown",
      "source": [
        "#### Local\n",
        "Zmienne lokalne istnieją tylko wewnątrz funkcji, nie możemy z nich skorzystać poza."
      ],
      "metadata": {
        "id": "uZ9HJbJGpx5v"
      }
    },
    {
      "cell_type": "code",
      "source": [
        "def greet():\n",
        "\n",
        "    # zmienna lokalna\n",
        "    message = 'Hello'\n",
        "    \n",
        "    print('Local', message)\n",
        "\n",
        "greet()\n",
        "\n",
        "# spróbujmy skorzystać z tej zmiennej poza funkcją\n",
        "print(message)"
      ],
      "metadata": {
        "id": "PGB-HWqTpxnw"
      },
      "execution_count": null,
      "outputs": []
    },
    {
      "cell_type": "markdown",
      "source": [
        "#### Global\n",
        "Zmienne zadeklarowane poza funkcją nazywami globalnymi, ponieważ są dostępne zarówno wewnątrz jak i poza funkcją."
      ],
      "metadata": {
        "id": "J3KdtkWUqLrN"
      }
    },
    {
      "cell_type": "code",
      "source": [
        "# deklarujemy zmienną globalną\n",
        "message = 'Hello'\n",
        "\n",
        "def greet():\n",
        "    print('Local', message)\n",
        "\n",
        "greet()\n",
        "print('Global', message)"
      ],
      "metadata": {
        "id": "4vEi4kEZljtW"
      },
      "execution_count": null,
      "outputs": []
    },
    {
      "cell_type": "markdown",
      "source": [
        "#### Nonlocal\n",
        "\n",
        "Zmienne nielokalne nie istnieją ani lokalnie ani globalnie, korzystamy z nich w funkcjach wewnętrznych."
      ],
      "metadata": {
        "id": "HsusBWu8qlRu"
      }
    },
    {
      "cell_type": "code",
      "source": [
        "# funkcja zewnętrzna \n",
        "def outer():\n",
        "    message = 'local'\n",
        "\n",
        "    # funkcja zagnieżdżona  \n",
        "    def inner():\n",
        "\n",
        "        # deklarujemy zmienną nonlocal\n",
        "        nonlocal message\n",
        "\n",
        "        message = 'nonlocal'\n",
        "        print(\"inner:\", message)\n",
        "\n",
        "    # inner() # wywołana wcześniej nadpisze nam zmienną message\n",
        "    print(\"outer:\", message)\n",
        "    inner()\n",
        "\n",
        "outer()"
      ],
      "metadata": {
        "colab": {
          "base_uri": "https://localhost:8080/"
        },
        "id": "NnAPt5iqq0Vr",
        "outputId": "5cb0cfbd-67c5-4e72-9357-50b99afecf2f"
      },
      "execution_count": null,
      "outputs": [
        {
          "output_type": "stream",
          "name": "stdout",
          "text": [
            "outer: local\n",
            "inner: nonlocal\n"
          ]
        }
      ]
    },
    {
      "cell_type": "markdown",
      "source": [
        "### Słowo klucz **global**\n",
        "\n",
        "Słowo klucz **global** pozwala na modyfikacje zmiennej globalnej wewnątrz funkcji."
      ],
      "metadata": {
        "id": "MVOlHz1IljzP"
      }
    },
    {
      "cell_type": "code",
      "source": [
        "c = 1 # zmienna globalna\n",
        "\n",
        "def add():\n",
        "    print(c)\n",
        "\n",
        "add()"
      ],
      "metadata": {
        "id": "Wnd2j_t4ljzQ"
      },
      "execution_count": null,
      "outputs": []
    },
    {
      "cell_type": "code",
      "source": [
        "c = 1 # zmienna globalna\n",
        "\n",
        "def add():\n",
        "\n",
        "     # zwiększamy c o 2, ale dostaniemy błąd, bo nie możemy zmienić zmiennej globalnej wewnątrz funkcji\n",
        "    c = c + 2\n",
        "\n",
        "    print(c)\n",
        "\n",
        "add()"
      ],
      "metadata": {
        "id": "SZG1IcTUsG1q"
      },
      "execution_count": null,
      "outputs": []
    },
    {
      "cell_type": "code",
      "source": [
        "c = 1 \n",
        "\n",
        "def add():\n",
        "\n",
        "    # dopiero jak skorzystamy ze słowa kluczowego global, poniższe staje się możliwe\n",
        "    global c\n",
        "\n",
        "    # zwiększamy c o 2\n",
        "    c = c + 2 \n",
        "\n",
        "    print(c)\n",
        "\n",
        "add()"
      ],
      "metadata": {
        "id": "RD9rn7UFsGtn"
      },
      "execution_count": null,
      "outputs": []
    },
    {
      "cell_type": "code",
      "source": [
        "def outer_function():\n",
        "    num = 20\n",
        "\n",
        "    def inner_function():\n",
        "        global num # tworzymy zmienną globalną\n",
        "        num = 25 # te zmiany będą widocznie globalnie, ale nie lokalnie\n",
        "    \n",
        "    print(\"Before calling inner_function(): \", num) # zwróci 20 bo wciąć jesteśmy w zakresie lokalnym\n",
        "    inner_function() # to zmieni zmienną globalną\n",
        "    print(\"After calling inner_function(): \", num) # zwróci 20 bo wciąć jesteśmy w zakresie lokalnym\n",
        "\n",
        "outer_function()\n",
        "print(\"Outside both function: \", num)"
      ],
      "metadata": {
        "id": "AOS2Ln5Jsz59"
      },
      "execution_count": null,
      "outputs": []
    },
    {
      "cell_type": "markdown",
      "source": [
        "### Moduły w Pythonie\n",
        "\n",
        "W miarę jak piszemy coraz bardziej zaawansowane programy, trzymanie wszystkiego w jednym kodzie, nawet z podziałem na funkcje staje się niepraktyczne i mało czytelne. Zamiast tego możemy tworzyć moduły, które zawierają funkcje, które możemy importować.\n",
        "\n",
        "Moduł to plik z kodem do określonego zadania."
      ],
      "metadata": {
        "id": "Vl_5gJIqlj4n"
      }
    },
    {
      "cell_type": "code",
      "source": [
        "### napisane wcześniej 4 funkcje - dodawanie, odejmowanie etc. zapisz w nowym pliku \"matematyka.py\""
      ],
      "metadata": {
        "id": "HV_VE50WluJc"
      },
      "execution_count": null,
      "outputs": []
    },
    {
      "cell_type": "code",
      "source": [
        "import matematyka\n",
        "\n",
        "matematyka.dodawanie(1,2)"
      ],
      "metadata": {
        "id": "UHeMG4erutIN"
      },
      "execution_count": null,
      "outputs": []
    },
    {
      "cell_type": "code",
      "source": [
        "import matematyka as mat\n",
        "\n",
        "mat.dodawanie(1,2)"
      ],
      "metadata": {
        "id": "wGUeFMHfxGhS"
      },
      "execution_count": null,
      "outputs": []
    },
    {
      "cell_type": "code",
      "source": [
        "from matematyka import dodawanie, odejmowanie\n",
        "odejmowanie(4,5)"
      ],
      "metadata": {
        "id": "mBJwoCDZwziY"
      },
      "execution_count": null,
      "outputs": []
    },
    {
      "cell_type": "code",
      "source": [
        "from matematyka import *\n",
        "odejmowanie(4,5)"
      ],
      "metadata": {
        "id": "Ac4mOZOnxMBx"
      },
      "execution_count": null,
      "outputs": []
    },
    {
      "cell_type": "code",
      "source": [
        "dir(matematyka)"
      ],
      "metadata": {
        "colab": {
          "base_uri": "https://localhost:8080/"
        },
        "id": "fPS-LelTxQT4",
        "outputId": "ffb2adb9-4229-4f84-bb3b-911fd0e0f960"
      },
      "execution_count": null,
      "outputs": [
        {
          "output_type": "execute_result",
          "data": {
            "text/plain": [
              "['__builtins__',\n",
              " '__cached__',\n",
              " '__doc__',\n",
              " '__file__',\n",
              " '__loader__',\n",
              " '__name__',\n",
              " '__package__',\n",
              " '__spec__',\n",
              " 'dodawanie',\n",
              " 'dzielenie',\n",
              " 'mnozenie',\n",
              " 'odejmowanie']"
            ]
          },
          "metadata": {},
          "execution_count": 33
        }
      ]
    },
    {
      "cell_type": "markdown",
      "source": [
        "### Pakiety w Pythonie\n",
        "\n",
        "W Pythonie są jeszcze pakiety. Pakiet jest zbiorem modułów. Z pakietu możemy importować poszczególne moduły."
      ],
      "metadata": {
        "id": "sgmcj5MqluJb"
      }
    },
    {
      "cell_type": "code",
      "source": [
        "from collections import OrderedDict\n",
        "\n",
        "dir(OrderedDict)"
      ],
      "metadata": {
        "colab": {
          "base_uri": "https://localhost:8080/"
        },
        "id": "ywFZHdsWlj4o",
        "outputId": "ce61bf83-2611-4a9d-f1e6-44f39b2252eb"
      },
      "execution_count": null,
      "outputs": [
        {
          "output_type": "execute_result",
          "data": {
            "text/plain": [
              "['__class__',\n",
              " '__contains__',\n",
              " '__delattr__',\n",
              " '__delitem__',\n",
              " '__dict__',\n",
              " '__dir__',\n",
              " '__doc__',\n",
              " '__eq__',\n",
              " '__format__',\n",
              " '__ge__',\n",
              " '__getattribute__',\n",
              " '__getitem__',\n",
              " '__gt__',\n",
              " '__hash__',\n",
              " '__init__',\n",
              " '__init_subclass__',\n",
              " '__iter__',\n",
              " '__le__',\n",
              " '__len__',\n",
              " '__lt__',\n",
              " '__ne__',\n",
              " '__new__',\n",
              " '__reduce__',\n",
              " '__reduce_ex__',\n",
              " '__repr__',\n",
              " '__reversed__',\n",
              " '__setattr__',\n",
              " '__setitem__',\n",
              " '__sizeof__',\n",
              " '__str__',\n",
              " '__subclasshook__',\n",
              " 'clear',\n",
              " 'copy',\n",
              " 'fromkeys',\n",
              " 'get',\n",
              " 'items',\n",
              " 'keys',\n",
              " 'move_to_end',\n",
              " 'pop',\n",
              " 'popitem',\n",
              " 'setdefault',\n",
              " 'update',\n",
              " 'values']"
            ]
          },
          "metadata": {},
          "execution_count": 35
        }
      ]
    },
    {
      "cell_type": "markdown",
      "source": [
        "### ĆWICZENIA"
      ],
      "metadata": {
        "id": "MGCenTOTzKw6"
      }
    },
    {
      "cell_type": "code",
      "source": [
        "# Napisz funkcję, która będzie zwracała wynik operacji: [10 * (3 + 2)] ^ 4\n",
        "# skorzystaj z wywołania funkcji wewnątrz funkcji"
      ],
      "metadata": {
        "id": "prQUrKotzNBp"
      },
      "execution_count": null,
      "outputs": []
    },
    {
      "cell_type": "code",
      "source": [
        "# przerób funkcje dodawanie, odejmowanie etc. na funkcje anonimowe"
      ],
      "metadata": {
        "id": "L5n1oflw0TNm"
      },
      "execution_count": null,
      "outputs": []
    },
    {
      "cell_type": "code",
      "source": [
        "# przepisz funcję dodawanie do funkcji addition (zmiana nazwy poprzez przypisanie)\n"
      ],
      "metadata": {
        "id": "WD3cwQ1n0ZSD"
      },
      "execution_count": null,
      "outputs": []
    }
  ]
}